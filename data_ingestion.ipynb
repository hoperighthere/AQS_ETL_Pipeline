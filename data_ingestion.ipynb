{
 "cells": [
  {
   "cell_type": "code",
   "execution_count": null,
   "id": "771cf5dc-40df-413a-bcdc-3e3f5c722e6d",
   "metadata": {},
   "outputs": [],
   "source": [
    "import os\n",
    "import pandas as pd\n",
    "from dotenv import load_dotenv\n",
    "import dlt\n",
    "import requests\n",
    "import logging\n",
    "import time"
   ]
  },
  {
   "cell_type": "code",
   "execution_count": null,
   "id": "0bbad613-4489-4140-b4a4-08b580b67dae",
   "metadata": {},
   "outputs": [],
   "source": [
    "# Configure logging\n",
    "logging.basicConfig(\n",
    "filename='LoadData.log',  # Specify the file name for the log\n",
    "level=logging.INFO,  # Set the logging level (DEBUG, INFO, WARNING, ERROR, CRITICAL)\n",
    "format='%(asctime)s - %(levelname)s - %(message)s',  # Specify the log message format\n",
    "datefmt='%Y-%m-%d %H:%M:%S'  # Specify the date/time format\n",
    ")\n",
    "\n",
    "logger = logging.getLogger(__name__)"
   ]
  },
  {
   "cell_type": "code",
   "execution_count": null,
   "id": "ab94a88d-875b-4313-bc15-e33bcc5647ca",
   "metadata": {},
   "outputs": [],
   "source": [
    "# Load environment variables\n",
    "load_dotenv()\n",
    "EMAIL = os.getenv(\"email\")\n",
    "KEY = os.getenv(\"key\")"
   ]
  },
  {
   "cell_type": "code",
   "execution_count": null,
   "id": "8a3c8158-14ed-48b5-a6c0-97253f747d0d",
   "metadata": {},
   "outputs": [],
   "source": [
    "# API URLs and parameters\n",
    "STATES_URL = f'https://aqs.epa.gov/data/api/list/states?email={EMAIL}&key={KEY}'\n",
    "DAILY_DATA_URL_TEMPLATE = 'https://aqs.epa.gov/data/api/dailyData/byState?email={email}&key={key}&param={param}&bdate={bdate}&edate={edate}&state={state}'\n",
    "PARAM = 44201     #Ozone\n",
    "BDATE = 20230101\n",
    "EDATE = 20231231"
   ]
  },
  {
   "cell_type": "code",
   "execution_count": null,
   "id": "56ef9376-b35f-44a7-8eaf-b6db1b4ec312",
   "metadata": {},
   "outputs": [],
   "source": [
    "# Extract data\n",
    "def extract_data_from_api(url):\n",
    "    \"\"\"Extracts data from the API endpoint.\"\"\"\n",
    "    response = requests.get(url)\n",
    "    if response.status_code == 200:\n",
    "        data = response.json().get('Data', [])\n",
    "        if data:\n",
    "            return pd.DataFrame(data)\n",
    "    else:\n",
    "        logger.error(f\"API request failed with status code: {response.status_code}\")"
   ]
  },
  {
   "cell_type": "code",
   "execution_count": null,
   "id": "7320f7ca-abb1-4240-be9e-2775dcfc8fdf",
   "metadata": {},
   "outputs": [],
   "source": [
    "# Load data \n",
    "def load_to_postgres(df, pipeline_name, table_name):\n",
    "    \"\"\"Loads DataFrame to PostgreSQL using Dlt.\"\"\"\n",
    "    rows = df.shape[0]\n",
    "    pipeline = dlt.pipeline(\n",
    "        pipeline_name=pipeline_name,\n",
    "        destination='postgres',\n",
    "        dataset_name='public'\n",
    "    )\n",
    "    pipeline.run(df, table_name=table_name, write_disposition=\"append\")"
   ]
  },
  {
   "cell_type": "code",
   "execution_count": null,
   "id": "dd8d107c-a4e1-449b-bb4c-faa716743846",
   "metadata": {},
   "outputs": [],
   "source": [
    "def main():\n",
    "    states_data = extract_data_from_api(STATES_URL)\n",
    "    if states_data is not None:\n",
    "        states_codes = states_data.iloc[:,0].tolist()\n",
    "        states = states_data.iloc[:,1].tolist()\n",
    "    else:\n",
    "        logger.warning('No data available for states extraction.')\n",
    "        \n",
    "    total_rows_loaded = 0\n",
    "    for index, state in enumerate(states_codes):\n",
    "        daily_data_url = DAILY_DATA_URL_TEMPLATE.format(email=EMAIL, key=KEY, param=PARAM, bdate=BDATE, edate=EDATE, state=state)\n",
    "        data = extract_data_from_api(daily_data_url)\n",
    "        \n",
    "        if data is not None:   \n",
    "            data['date_local'] = pd.to_datetime(data['date_local'])\n",
    "            data['date_of_last_change'] = pd.to_datetime(data['date_of_last_change'])\n",
    "            rows_loaded = data.shape[0]\n",
    "            load_to_postgres(data, pipeline_name='AQS_AirData',table_name='AQS_daily_air_data')\n",
    "            total_rows_loaded += rows_loaded            \n",
    "            logging.info(f'Loaded {rows_loaded} rows for state {states[index]}. Total rows loaded: {total_rows_loaded}')\n",
    "        else:\n",
    "            logger.warning(f'No data available for state {states[index]}.')\n",
    "            \n",
    "        time.sleep(1)   \n",
    "    "
   ]
  },
  {
   "cell_type": "code",
   "execution_count": null,
   "id": "4e5e554f-f9e7-488a-a3c8-8efe00ba87db",
   "metadata": {},
   "outputs": [],
   "source": [
    "if __name__ == \"__main__\":    \n",
    "    main()"
   ]
  }
 ],
 "metadata": {
  "kernelspec": {
   "display_name": "Python 3 (ipykernel)",
   "language": "python",
   "name": "python3"
  },
  "language_info": {
   "codemirror_mode": {
    "name": "ipython",
    "version": 3
   },
   "file_extension": ".py",
   "mimetype": "text/x-python",
   "name": "python",
   "nbconvert_exporter": "python",
   "pygments_lexer": "ipython3",
   "version": "3.11.8"
  }
 },
 "nbformat": 4,
 "nbformat_minor": 5
}
